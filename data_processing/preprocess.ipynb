{
 "cells": [
  {
   "cell_type": "markdown",
   "id": "58b17c62",
   "metadata": {},
   "source": []
  },
  {
   "cell_type": "code",
   "execution_count": 86,
   "id": "c86685f9",
   "metadata": {},
   "outputs": [],
   "source": [
    "import json\n",
    "import pandas as pd"
   ]
  },
  {
   "cell_type": "code",
   "execution_count": 87,
   "id": "aed8a4cd",
   "metadata": {},
   "outputs": [],
   "source": [
    "file_path = './data/student_depression_dataset.csv'\n",
    "mental_healt_df = pd.read_csv(file_path)"
   ]
  },
  {
   "cell_type": "code",
   "execution_count": 88,
   "id": "2a06da69",
   "metadata": {},
   "outputs": [
    {
     "data": {
      "text/plain": [
       "(27901, 18)"
      ]
     },
     "execution_count": 88,
     "metadata": {},
     "output_type": "execute_result"
    }
   ],
   "source": [
    "mental_healt_df.shape"
   ]
  },
  {
   "cell_type": "code",
   "execution_count": 89,
   "id": "d2a0366a",
   "metadata": {},
   "outputs": [
    {
     "data": {
      "text/plain": [
       "Depression\n",
       "1    16336\n",
       "0    11565\n",
       "Name: count, dtype: int64"
      ]
     },
     "execution_count": 89,
     "metadata": {},
     "output_type": "execute_result"
    }
   ],
   "source": [
    "mental_healt_df['Depression'].value_counts()"
   ]
  },
  {
   "cell_type": "code",
   "execution_count": 90,
   "id": "8103130f",
   "metadata": {},
   "outputs": [],
   "source": [
    "charts_info_dict = {}\n",
    "depression_count = mental_healt_df['Depression'].value_counts()\n",
    "\n",
    "charts_info_dict['depression-rates'] = {\n",
    "    'Positius': str(depression_count[1]),\n",
    "    'Negatius': str(depression_count[0])\n",
    "}\n",
    "\n",
    "suicide_thoughts_count = mental_healt_df['Have you ever had suicidal thoughts ?'].value_counts()\n",
    "charts_info_dict['suicidal-thougths-rates'] = {\n",
    "    'Positius': str(suicide_thoughts_count['Yes']),\n",
    "    'Negatius': str(suicide_thoughts_count['No'])\n",
    "}"
   ]
  },
  {
   "cell_type": "code",
   "execution_count": 91,
   "id": "40ef9d48",
   "metadata": {},
   "outputs": [],
   "source": [
    "city_counts = mental_healt_df['City'].value_counts()\n",
    "city_counts = city_counts[city_counts >= 400].index\n",
    "mental_healt_df = mental_healt_df[mental_healt_df['City'].isin(city_counts)]"
   ]
  },
  {
   "cell_type": "code",
   "execution_count": null,
   "id": "66abe401",
   "metadata": {},
   "outputs": [],
   "source": [
    "city_depression = mental_healt_df.groupby(['City', 'Depression']).count()['id']\n",
    "\n",
    "city_totals = city_depression.groupby(level=0).sum()\n",
    "ordered_cities = city_totals.sort_values(ascending=False).index\n",
    "\n",
    "charts_info_dict['city-depression'] = {}\n",
    "\n",
    "for city in ordered_cities:\n",
    "    city_data = city_depression.loc[city]\n",
    "    \n",
    "    if not isinstance(city_data, pd.Series):\n",
    "        city_data = pd.Series({city_data.index: city_data})\n",
    "\n",
    "    charts_info_dict['city-depression'][city] = {}\n",
    "\n",
    "    for depression in [1, 0]:\n",
    "        if depression in city_data:\n",
    "            depression_key = 'Positiu' if depression == 1 else 'Negatiu'\n",
    "            charts_info_dict['city-depression'][city][depression_key] = str(city_data[depression])\n"
   ]
  },
  {
   "cell_type": "code",
   "execution_count": 93,
   "id": "faa236da",
   "metadata": {},
   "outputs": [],
   "source": [
    "output_json_path = '../public/data/mental-health-data.json'\n",
    "with open(output_json_path, 'w', encoding='utf-8') as file:\n",
    "    json.dump(charts_info_dict, file, ensure_ascii=False, indent=4)"
   ]
  }
 ],
 "metadata": {
  "kernelspec": {
   "display_name": "Python 3",
   "language": "python",
   "name": "python3"
  },
  "language_info": {
   "codemirror_mode": {
    "name": "ipython",
    "version": 3
   },
   "file_extension": ".py",
   "mimetype": "text/x-python",
   "name": "python",
   "nbconvert_exporter": "python",
   "pygments_lexer": "ipython3",
   "version": "3.12.0"
  }
 },
 "nbformat": 4,
 "nbformat_minor": 5
}
